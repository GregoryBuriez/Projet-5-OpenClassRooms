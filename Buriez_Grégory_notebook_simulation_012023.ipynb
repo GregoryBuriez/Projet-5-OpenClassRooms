{
 "cells": [
  {
   "cell_type": "markdown",
   "id": "df20ea2f",
   "metadata": {},
   "source": [
    "# Projet 5  : Segmentez des clients d'un site e-commerce"
   ]
  },
  {
   "cell_type": "markdown",
   "id": "82b590f7",
   "metadata": {},
   "source": [
    "Vous êtes consultant pour Olist, une entreprise brésilienne qui propose une solution de vente sur les marketplaces en ligne.\n",
    "\n",
    " \n",
    "\n",
    "La page d'accueil du site Olist\n",
    "La page d'accueil du site Olist\n",
    "Olist souhaite que vous fournissiez à ses équipes d'e-commerce une segmentation des clients qu’elles pourront utiliser au quotidien pour leurs campagnes de communication.\n",
    "\n",
    "Votre objectif est de comprendre les différents types d’utilisateurs grâce à leur comportement et à leurs données personnelles.\n",
    "\n",
    "Vous devrez fournir à l’équipe marketing une description actionable de votre segmentation et de sa logique sous-jacente pour une utilisation optimale, ainsi qu’une proposition de contrat de maintenance basée sur une analyse de la stabilité des segments au cours du temps.\n",
    "\n",
    "Les données\n",
    "Pour cette mission, Olist vous fournit une base de données anonymisée comportant des informations sur l’historique de commandes, les produits achetés, les commentaires de satisfaction, et la localisation des clients depuis janvier 2017.\n",
    "\n",
    "Votre mission\n",
    "Votre mission est d’aider les équipes d’Olist à comprendre les différents types d'utilisateurs. Vous utiliserez donc des méthodes non supervisées pour regrouper des clients de profils similaires. Ces catégories pourront être utilisées par l’équipe Marketing pour mieux communiquer.\n",
    "\n",
    "Vous créez donc un notebook et démarrez votre travail d’analyse exploratoire.\n",
    "\n",
    "\n",
    "\n",
    "Après quelques premières analyses, vous vous rendez compte qu’Olist ne vous a pas fourni beaucoup de données ; vous enquêtez donc auprès de l’entreprise pour obtenir quelques informations complémentaires, et vérifier que vous avez bien compris la mission. Voici sa réponse.\n",
    "\n",
    " \n",
    "\n",
    "Bonjour, \n",
    "\n",
    "Pour des raisons de confidentialité, nous ne pouvons pas vous fournir beaucoup de données à ce stade. Ensuite, en raison de ressources limitées, nous avons dû vous fournir l’ensemble des données, alors que seule une partie va vous intéresser. Nos dashboards internes nous indiquent en effet que seuls 3 % des clients du fichier de données partagé avec vous ont réalisé plusieurs commandes.\n",
    "\n",
    "Nous sommes confiants sur le fait que les données à disposition suffiront pour réaliser un premier clustering. Cela a déjà été fait par d’autres prestataires par le passé, avec encore moins de données.\n",
    "\n",
    "La segmentation proposée doit être exploitable et facile d’utilisation par notre équipe Marketing. Elle doit au minimum pouvoir différencier les bons et moins bons clients en termes de commandes et de satisfaction. Nous attendons bien sûr une segmentation sur l’ensemble des clients.\n",
    "\n",
    "Dans un deuxième temps, une fois le modèle de segmentation choisi, nous souhaiterions  que vous nous fassiez une recommandation de fréquence à laquelle la segmentation doit être mise à jour pour rester pertinente, afin de pouvoir effectuer un devis de contrat de maintenance.\n",
    "\n",
    "Pour information, le code fourni doit respecter la convention PEP8, pour être utilisable par Olist.\n",
    "\n",
    "Bien à vous,\n",
    "\n",
    "Juan, de l’équipe Marketing\n",
    "\n",
    "Vous réalisez donc trois autres documents afin de préparer une réponse à Olist : \n",
    "\n",
    "un notebook avec des essais des différentes approches de modélisation ;\n",
    "un notebook de simulation pour déterminer la fréquence nécessaire de mise à jour du modèle de segmentation, afin que celui-ci reste pertinent ; \n",
    "une présentation pour un collègue afin d’obtenir ses retours sur votre approche."
   ]
  },
  {
   "cell_type": "markdown",
   "id": "6b29d094",
   "metadata": {},
   "source": [
    "# Sommaire\n",
    "\n",
    "\n",
    "\n",
    "## I. Importation des données\n",
    "\n",
    "### 1. Importation des bibliothèques\n",
    "\n",
    "### 2. Importation du fichier\n",
    "\n",
    "\n",
    "\n",
    "\n",
    "## II. Maintenance\n",
    "\n",
    "### 1. Préparation des données\n",
    "#### 1.1 Création des fichiers\n",
    "#### 1.2 Agrégation des fichiers\n",
    "\n",
    "### 2.Entrainement des modèles\n",
    "#### 2.1 Entrainement du modèle de référence\n",
    "#### 2.2 Entrainement des modèles mensuels\n",
    "\n",
    "### 3. Résultats de la maintenance\n",
    "\n",
    "\n",
    "\n",
    "## III. Conclusion du projet 5"
   ]
  },
  {
   "cell_type": "markdown",
   "id": "2a5c71d7",
   "metadata": {},
   "source": [
    "# "
   ]
  },
  {
   "cell_type": "markdown",
   "id": "4e97e75c",
   "metadata": {},
   "source": [
    "## I. Importation des données"
   ]
  },
  {
   "cell_type": "markdown",
   "id": "0a3e5b6e",
   "metadata": {},
   "source": [
    "### A. Importation des bibliothèques"
   ]
  },
  {
   "cell_type": "code",
   "execution_count": 1,
   "id": "bb3e2f95",
   "metadata": {},
   "outputs": [],
   "source": [
    "# Importation bibliothèque\n",
    "\n",
    "import numpy as np\n",
    "import pandas as pd\n",
    "import matplotlib.pyplot as plt\n",
    "import seaborn as sns\n",
    "\n",
    "import missingno as msno\n",
    "\n",
    "import folium\n",
    "\n",
    "import datetime\n",
    "\n",
    "import warnings\n",
    "warnings.filterwarnings('ignore')\n",
    "\n",
    "from sklearn.metrics import confusion_matrix\n",
    "from sklearn.preprocessing import StandardScaler\n",
    "from sklearn.cluster import KMeans\n",
    "from sklearn.metrics.cluster import adjusted_rand_score"
   ]
  },
  {
   "cell_type": "markdown",
   "id": "1e6a2bc7",
   "metadata": {},
   "source": [
    "### B. Importation du fichier"
   ]
  },
  {
   "cell_type": "code",
   "execution_count": 2,
   "id": "98e4efe8",
   "metadata": {},
   "outputs": [
    {
     "data": {
      "text/html": [
       "<div>\n",
       "<style scoped>\n",
       "    .dataframe tbody tr th:only-of-type {\n",
       "        vertical-align: middle;\n",
       "    }\n",
       "\n",
       "    .dataframe tbody tr th {\n",
       "        vertical-align: top;\n",
       "    }\n",
       "\n",
       "    .dataframe thead th {\n",
       "        text-align: right;\n",
       "    }\n",
       "</style>\n",
       "<table border=\"1\" class=\"dataframe\">\n",
       "  <thead>\n",
       "    <tr style=\"text-align: right;\">\n",
       "      <th></th>\n",
       "      <th>customer_unique_id</th>\n",
       "      <th>order_id</th>\n",
       "      <th>order_purchase_timestamp</th>\n",
       "      <th>order_item_id</th>\n",
       "      <th>review_score</th>\n",
       "      <th>Total_paiements</th>\n",
       "      <th>recency</th>\n",
       "    </tr>\n",
       "  </thead>\n",
       "  <tbody>\n",
       "    <tr>\n",
       "      <th>0</th>\n",
       "      <td>0000366f3b9a7992bf8c76cfdf3221e2</td>\n",
       "      <td>e22acc9c116caa3f2b7121bbb380d08e</td>\n",
       "      <td>2018-05-10</td>\n",
       "      <td>1.0</td>\n",
       "      <td>5.0</td>\n",
       "      <td>141.90</td>\n",
       "      <td>112</td>\n",
       "    </tr>\n",
       "    <tr>\n",
       "      <th>1</th>\n",
       "      <td>0000b849f77a49e4a4ce2b2a4ca5be3f</td>\n",
       "      <td>3594e05a005ac4d06a72673270ef9ec9</td>\n",
       "      <td>2018-05-07</td>\n",
       "      <td>1.0</td>\n",
       "      <td>4.0</td>\n",
       "      <td>27.19</td>\n",
       "      <td>115</td>\n",
       "    </tr>\n",
       "    <tr>\n",
       "      <th>2</th>\n",
       "      <td>0000f46a3911fa3c0805444483337064</td>\n",
       "      <td>b33ec3b699337181488304f362a6b734</td>\n",
       "      <td>2017-03-10</td>\n",
       "      <td>1.0</td>\n",
       "      <td>3.0</td>\n",
       "      <td>86.22</td>\n",
       "      <td>538</td>\n",
       "    </tr>\n",
       "    <tr>\n",
       "      <th>3</th>\n",
       "      <td>0000f6ccb0745a6a4b88665a16c9f078</td>\n",
       "      <td>41272756ecddd9a9ed0180413cc22fb6</td>\n",
       "      <td>2017-10-12</td>\n",
       "      <td>1.0</td>\n",
       "      <td>4.0</td>\n",
       "      <td>43.62</td>\n",
       "      <td>322</td>\n",
       "    </tr>\n",
       "    <tr>\n",
       "      <th>4</th>\n",
       "      <td>0004aac84e0df4da2b147fca70cf8255</td>\n",
       "      <td>d957021f1127559cd947b62533f484f7</td>\n",
       "      <td>2017-11-14</td>\n",
       "      <td>1.0</td>\n",
       "      <td>5.0</td>\n",
       "      <td>196.89</td>\n",
       "      <td>289</td>\n",
       "    </tr>\n",
       "  </tbody>\n",
       "</table>\n",
       "</div>"
      ],
      "text/plain": [
       "                 customer_unique_id                          order_id  \\\n",
       "0  0000366f3b9a7992bf8c76cfdf3221e2  e22acc9c116caa3f2b7121bbb380d08e   \n",
       "1  0000b849f77a49e4a4ce2b2a4ca5be3f  3594e05a005ac4d06a72673270ef9ec9   \n",
       "2  0000f46a3911fa3c0805444483337064  b33ec3b699337181488304f362a6b734   \n",
       "3  0000f6ccb0745a6a4b88665a16c9f078  41272756ecddd9a9ed0180413cc22fb6   \n",
       "4  0004aac84e0df4da2b147fca70cf8255  d957021f1127559cd947b62533f484f7   \n",
       "\n",
       "  order_purchase_timestamp  order_item_id  review_score  Total_paiements  \\\n",
       "0               2018-05-10            1.0           5.0           141.90   \n",
       "1               2018-05-07            1.0           4.0            27.19   \n",
       "2               2017-03-10            1.0           3.0            86.22   \n",
       "3               2017-10-12            1.0           4.0            43.62   \n",
       "4               2017-11-14            1.0           5.0           196.89   \n",
       "\n",
       "   recency  \n",
       "0      112  \n",
       "1      115  \n",
       "2      538  \n",
       "3      322  \n",
       "4      289  "
      ]
     },
     "execution_count": 2,
     "metadata": {},
     "output_type": "execute_result"
    }
   ],
   "source": [
    "data = pd.read_csv(\"fichier_maintenance.csv\")\n",
    "\n",
    "data.head(5)"
   ]
  },
  {
   "cell_type": "markdown",
   "id": "f1e82997",
   "metadata": {},
   "source": [
    "# "
   ]
  },
  {
   "cell_type": "markdown",
   "id": "9fcdc9e2",
   "metadata": {},
   "source": [
    "## II. Maintenance"
   ]
  },
  {
   "cell_type": "markdown",
   "id": "aa836821",
   "metadata": {},
   "source": [
    "### A. Création des fichiers"
   ]
  },
  {
   "cell_type": "code",
   "execution_count": 3,
   "id": "a18b1c85",
   "metadata": {},
   "outputs": [],
   "source": [
    "# Fichier sur Janvier \n",
    "\n",
    "data_ref= data[(data[\"order_purchase_timestamp\"] >= '2017-01-01') & (data[\"order_purchase_timestamp\"] <= '2017-12-31')]\n",
    "\n",
    "\n",
    "# Fichier sur Février\n",
    "data1= data[(data[\"order_purchase_timestamp\"] >= '2017-02-01') & (data[\"order_purchase_timestamp\"] <= '2018-01-31')]\n",
    "\n",
    "\n",
    "# Fichier sur Mars\n",
    "data2= data[(data[\"order_purchase_timestamp\"] >= '2017-03-01') & (data[\"order_purchase_timestamp\"] <= '2018-02-28')]\n",
    "\n",
    "\n",
    "# Fichier sur Avril\n",
    "data3= data[(data[\"order_purchase_timestamp\"] >= '2017-04-01') & (data[\"order_purchase_timestamp\"] <= '2018-03-31')]\n",
    "\n",
    "\n",
    "# Fichier sur Mai\n",
    "data4= data[(data[\"order_purchase_timestamp\"] >= '2017-05-01') & (data[\"order_purchase_timestamp\"] <= '2018-04-30')]\n",
    "\n",
    "\n",
    "# Fichier sur Juin\n",
    "data5= data[(data[\"order_purchase_timestamp\"] >= '2017-06-01') & (data[\"order_purchase_timestamp\"] <= '2018-05-31')]\n",
    "\n",
    "\n",
    "# Fichier sur Juillet\n",
    "data6= data[(data[\"order_purchase_timestamp\"] >= '2017-07-01') & (data[\"order_purchase_timestamp\"] <= '2018-06-30')]\n",
    "\n",
    "\n",
    "# Fichier sur Août\n",
    "data7= data[(data[\"order_purchase_timestamp\"] >= '2017-08-01') & (data[\"order_purchase_timestamp\"] <= '2018-07-31')]\n"
   ]
  },
  {
   "cell_type": "code",
   "execution_count": 4,
   "id": "09ddb363",
   "metadata": {},
   "outputs": [
    {
     "data": {
      "text/html": [
       "<div>\n",
       "<style scoped>\n",
       "    .dataframe tbody tr th:only-of-type {\n",
       "        vertical-align: middle;\n",
       "    }\n",
       "\n",
       "    .dataframe tbody tr th {\n",
       "        vertical-align: top;\n",
       "    }\n",
       "\n",
       "    .dataframe thead th {\n",
       "        text-align: right;\n",
       "    }\n",
       "</style>\n",
       "<table border=\"1\" class=\"dataframe\">\n",
       "  <thead>\n",
       "    <tr style=\"text-align: right;\">\n",
       "      <th></th>\n",
       "      <th>customer_unique_id</th>\n",
       "      <th>order_id</th>\n",
       "      <th>order_purchase_timestamp</th>\n",
       "      <th>order_item_id</th>\n",
       "      <th>review_score</th>\n",
       "      <th>Total_paiements</th>\n",
       "      <th>recency</th>\n",
       "    </tr>\n",
       "  </thead>\n",
       "  <tbody>\n",
       "    <tr>\n",
       "      <th>2</th>\n",
       "      <td>0000f46a3911fa3c0805444483337064</td>\n",
       "      <td>b33ec3b699337181488304f362a6b734</td>\n",
       "      <td>2017-03-10</td>\n",
       "      <td>1.0</td>\n",
       "      <td>3.0</td>\n",
       "      <td>86.22</td>\n",
       "      <td>538</td>\n",
       "    </tr>\n",
       "    <tr>\n",
       "      <th>3</th>\n",
       "      <td>0000f6ccb0745a6a4b88665a16c9f078</td>\n",
       "      <td>41272756ecddd9a9ed0180413cc22fb6</td>\n",
       "      <td>2017-10-12</td>\n",
       "      <td>1.0</td>\n",
       "      <td>4.0</td>\n",
       "      <td>43.62</td>\n",
       "      <td>322</td>\n",
       "    </tr>\n",
       "    <tr>\n",
       "      <th>4</th>\n",
       "      <td>0004aac84e0df4da2b147fca70cf8255</td>\n",
       "      <td>d957021f1127559cd947b62533f484f7</td>\n",
       "      <td>2017-11-14</td>\n",
       "      <td>1.0</td>\n",
       "      <td>5.0</td>\n",
       "      <td>196.89</td>\n",
       "      <td>289</td>\n",
       "    </tr>\n",
       "    <tr>\n",
       "      <th>8</th>\n",
       "      <td>0005e1862207bf6ccc02e4228effd9a0</td>\n",
       "      <td>ae76bef74b97bcb0b3e355e60d9a6f9c</td>\n",
       "      <td>2017-03-04</td>\n",
       "      <td>1.0</td>\n",
       "      <td>4.0</td>\n",
       "      <td>150.12</td>\n",
       "      <td>544</td>\n",
       "    </tr>\n",
       "    <tr>\n",
       "      <th>10</th>\n",
       "      <td>0006fdc98a402fceb4eb0ee528f6a8d4</td>\n",
       "      <td>6681163e3dab91c549952b2845b20281</td>\n",
       "      <td>2017-07-18</td>\n",
       "      <td>1.0</td>\n",
       "      <td>3.0</td>\n",
       "      <td>29.00</td>\n",
       "      <td>408</td>\n",
       "    </tr>\n",
       "    <tr>\n",
       "      <th>11</th>\n",
       "      <td>00082cbe03e478190aadbea78542e933</td>\n",
       "      <td>67503374d1fbcbe5e3a40324f703ffc8</td>\n",
       "      <td>2017-11-19</td>\n",
       "      <td>1.0</td>\n",
       "      <td>5.0</td>\n",
       "      <td>126.26</td>\n",
       "      <td>284</td>\n",
       "    </tr>\n",
       "    <tr>\n",
       "      <th>14</th>\n",
       "      <td>000a5ad9c4601d2bbdd9ed765d5213b3</td>\n",
       "      <td>f7fa5cf8386e51037856df1add3e1228</td>\n",
       "      <td>2017-08-11</td>\n",
       "      <td>1.0</td>\n",
       "      <td>4.0</td>\n",
       "      <td>91.28</td>\n",
       "      <td>384</td>\n",
       "    </tr>\n",
       "    <tr>\n",
       "      <th>15</th>\n",
       "      <td>000bfa1d2f1a41876493be685390d6d3</td>\n",
       "      <td>fd61441ba2a7b57e6342862e779b10b0</td>\n",
       "      <td>2017-09-29</td>\n",
       "      <td>2.0</td>\n",
       "      <td>4.5</td>\n",
       "      <td>93.70</td>\n",
       "      <td>335</td>\n",
       "    </tr>\n",
       "    <tr>\n",
       "      <th>16</th>\n",
       "      <td>000c8bdb58a29e7115cfc257230fb21b</td>\n",
       "      <td>34801c59d6ec5c5e89bfefb6ebef314d</td>\n",
       "      <td>2017-12-12</td>\n",
       "      <td>1.0</td>\n",
       "      <td>5.0</td>\n",
       "      <td>29.00</td>\n",
       "      <td>261</td>\n",
       "    </tr>\n",
       "    <tr>\n",
       "      <th>18</th>\n",
       "      <td>000de6019bb59f34c099a907c151d855</td>\n",
       "      <td>c6d61340bd8baeedca7cc8e7f7ec07e9</td>\n",
       "      <td>2017-08-17</td>\n",
       "      <td>1.0</td>\n",
       "      <td>2.0</td>\n",
       "      <td>257.44</td>\n",
       "      <td>378</td>\n",
       "    </tr>\n",
       "  </tbody>\n",
       "</table>\n",
       "</div>"
      ],
      "text/plain": [
       "                  customer_unique_id                          order_id  \\\n",
       "2   0000f46a3911fa3c0805444483337064  b33ec3b699337181488304f362a6b734   \n",
       "3   0000f6ccb0745a6a4b88665a16c9f078  41272756ecddd9a9ed0180413cc22fb6   \n",
       "4   0004aac84e0df4da2b147fca70cf8255  d957021f1127559cd947b62533f484f7   \n",
       "8   0005e1862207bf6ccc02e4228effd9a0  ae76bef74b97bcb0b3e355e60d9a6f9c   \n",
       "10  0006fdc98a402fceb4eb0ee528f6a8d4  6681163e3dab91c549952b2845b20281   \n",
       "11  00082cbe03e478190aadbea78542e933  67503374d1fbcbe5e3a40324f703ffc8   \n",
       "14  000a5ad9c4601d2bbdd9ed765d5213b3  f7fa5cf8386e51037856df1add3e1228   \n",
       "15  000bfa1d2f1a41876493be685390d6d3  fd61441ba2a7b57e6342862e779b10b0   \n",
       "16  000c8bdb58a29e7115cfc257230fb21b  34801c59d6ec5c5e89bfefb6ebef314d   \n",
       "18  000de6019bb59f34c099a907c151d855  c6d61340bd8baeedca7cc8e7f7ec07e9   \n",
       "\n",
       "   order_purchase_timestamp  order_item_id  review_score  Total_paiements  \\\n",
       "2                2017-03-10            1.0           3.0            86.22   \n",
       "3                2017-10-12            1.0           4.0            43.62   \n",
       "4                2017-11-14            1.0           5.0           196.89   \n",
       "8                2017-03-04            1.0           4.0           150.12   \n",
       "10               2017-07-18            1.0           3.0            29.00   \n",
       "11               2017-11-19            1.0           5.0           126.26   \n",
       "14               2017-08-11            1.0           4.0            91.28   \n",
       "15               2017-09-29            2.0           4.5            93.70   \n",
       "16               2017-12-12            1.0           5.0            29.00   \n",
       "18               2017-08-17            1.0           2.0           257.44   \n",
       "\n",
       "    recency  \n",
       "2       538  \n",
       "3       322  \n",
       "4       289  \n",
       "8       544  \n",
       "10      408  \n",
       "11      284  \n",
       "14      384  \n",
       "15      335  \n",
       "16      261  \n",
       "18      378  "
      ]
     },
     "execution_count": 4,
     "metadata": {},
     "output_type": "execute_result"
    }
   ],
   "source": [
    "# Visualisation du fichier de référence\n",
    "\n",
    "data_ref.head(10)"
   ]
  },
  {
   "cell_type": "code",
   "execution_count": 5,
   "id": "16c2ca24",
   "metadata": {},
   "outputs": [
    {
     "data": {
      "text/html": [
       "<div>\n",
       "<style scoped>\n",
       "    .dataframe tbody tr th:only-of-type {\n",
       "        vertical-align: middle;\n",
       "    }\n",
       "\n",
       "    .dataframe tbody tr th {\n",
       "        vertical-align: top;\n",
       "    }\n",
       "\n",
       "    .dataframe thead th {\n",
       "        text-align: right;\n",
       "    }\n",
       "</style>\n",
       "<table border=\"1\" class=\"dataframe\">\n",
       "  <thead>\n",
       "    <tr style=\"text-align: right;\">\n",
       "      <th></th>\n",
       "      <th>customer_unique_id</th>\n",
       "      <th>order_id</th>\n",
       "      <th>order_purchase_timestamp</th>\n",
       "      <th>order_item_id</th>\n",
       "      <th>review_score</th>\n",
       "      <th>Total_paiements</th>\n",
       "      <th>recency</th>\n",
       "    </tr>\n",
       "  </thead>\n",
       "  <tbody>\n",
       "    <tr>\n",
       "      <th>2</th>\n",
       "      <td>0000f46a3911fa3c0805444483337064</td>\n",
       "      <td>b33ec3b699337181488304f362a6b734</td>\n",
       "      <td>2017-03-10</td>\n",
       "      <td>1.0</td>\n",
       "      <td>3.0</td>\n",
       "      <td>86.22</td>\n",
       "      <td>538</td>\n",
       "    </tr>\n",
       "    <tr>\n",
       "      <th>3</th>\n",
       "      <td>0000f6ccb0745a6a4b88665a16c9f078</td>\n",
       "      <td>41272756ecddd9a9ed0180413cc22fb6</td>\n",
       "      <td>2017-10-12</td>\n",
       "      <td>1.0</td>\n",
       "      <td>4.0</td>\n",
       "      <td>43.62</td>\n",
       "      <td>322</td>\n",
       "    </tr>\n",
       "    <tr>\n",
       "      <th>4</th>\n",
       "      <td>0004aac84e0df4da2b147fca70cf8255</td>\n",
       "      <td>d957021f1127559cd947b62533f484f7</td>\n",
       "      <td>2017-11-14</td>\n",
       "      <td>1.0</td>\n",
       "      <td>5.0</td>\n",
       "      <td>196.89</td>\n",
       "      <td>289</td>\n",
       "    </tr>\n",
       "    <tr>\n",
       "      <th>8</th>\n",
       "      <td>0005e1862207bf6ccc02e4228effd9a0</td>\n",
       "      <td>ae76bef74b97bcb0b3e355e60d9a6f9c</td>\n",
       "      <td>2017-03-04</td>\n",
       "      <td>1.0</td>\n",
       "      <td>4.0</td>\n",
       "      <td>150.12</td>\n",
       "      <td>544</td>\n",
       "    </tr>\n",
       "    <tr>\n",
       "      <th>10</th>\n",
       "      <td>0006fdc98a402fceb4eb0ee528f6a8d4</td>\n",
       "      <td>6681163e3dab91c549952b2845b20281</td>\n",
       "      <td>2017-07-18</td>\n",
       "      <td>1.0</td>\n",
       "      <td>3.0</td>\n",
       "      <td>29.00</td>\n",
       "      <td>408</td>\n",
       "    </tr>\n",
       "    <tr>\n",
       "      <th>...</th>\n",
       "      <td>...</td>\n",
       "      <td>...</td>\n",
       "      <td>...</td>\n",
       "      <td>...</td>\n",
       "      <td>...</td>\n",
       "      <td>...</td>\n",
       "      <td>...</td>\n",
       "    </tr>\n",
       "    <tr>\n",
       "      <th>96205</th>\n",
       "      <td>fffbf87b7a1a6fa8b03f081c5f51a201</td>\n",
       "      <td>64397307c6954ae1ad2ad8e791ad8a31</td>\n",
       "      <td>2017-12-27</td>\n",
       "      <td>1.0</td>\n",
       "      <td>5.0</td>\n",
       "      <td>167.32</td>\n",
       "      <td>246</td>\n",
       "    </tr>\n",
       "    <tr>\n",
       "      <th>96206</th>\n",
       "      <td>fffcf5a5ff07b0908bd4e2dbc735a684</td>\n",
       "      <td>725cf8e9c24e679a8a5a32cb92c9ce1e</td>\n",
       "      <td>2017-06-08</td>\n",
       "      <td>1.0</td>\n",
       "      <td>5.0</td>\n",
       "      <td>2067.42</td>\n",
       "      <td>448</td>\n",
       "    </tr>\n",
       "    <tr>\n",
       "      <th>96207</th>\n",
       "      <td>fffea47cd6d3cc0a88bd621562a9d061</td>\n",
       "      <td>c71b9252fd7b3b263aaa4cb09319a323</td>\n",
       "      <td>2017-12-10</td>\n",
       "      <td>1.0</td>\n",
       "      <td>4.0</td>\n",
       "      <td>84.58</td>\n",
       "      <td>263</td>\n",
       "    </tr>\n",
       "    <tr>\n",
       "      <th>96208</th>\n",
       "      <td>ffff371b4d645b6ecea244b27531430a</td>\n",
       "      <td>fdc45e6c7555e6cb3cc0daca2557dbe1</td>\n",
       "      <td>2017-02-07</td>\n",
       "      <td>1.0</td>\n",
       "      <td>5.0</td>\n",
       "      <td>112.46</td>\n",
       "      <td>569</td>\n",
       "    </tr>\n",
       "    <tr>\n",
       "      <th>96210</th>\n",
       "      <td>ffffd2657e2aad2907e67c3e9daecbeb</td>\n",
       "      <td>f79a35da168301ae56922475da21117b</td>\n",
       "      <td>2017-05-02</td>\n",
       "      <td>1.0</td>\n",
       "      <td>5.0</td>\n",
       "      <td>71.56</td>\n",
       "      <td>485</td>\n",
       "    </tr>\n",
       "  </tbody>\n",
       "</table>\n",
       "<p>49747 rows × 7 columns</p>\n",
       "</div>"
      ],
      "text/plain": [
       "                     customer_unique_id                          order_id  \\\n",
       "2      0000f46a3911fa3c0805444483337064  b33ec3b699337181488304f362a6b734   \n",
       "3      0000f6ccb0745a6a4b88665a16c9f078  41272756ecddd9a9ed0180413cc22fb6   \n",
       "4      0004aac84e0df4da2b147fca70cf8255  d957021f1127559cd947b62533f484f7   \n",
       "8      0005e1862207bf6ccc02e4228effd9a0  ae76bef74b97bcb0b3e355e60d9a6f9c   \n",
       "10     0006fdc98a402fceb4eb0ee528f6a8d4  6681163e3dab91c549952b2845b20281   \n",
       "...                                 ...                               ...   \n",
       "96205  fffbf87b7a1a6fa8b03f081c5f51a201  64397307c6954ae1ad2ad8e791ad8a31   \n",
       "96206  fffcf5a5ff07b0908bd4e2dbc735a684  725cf8e9c24e679a8a5a32cb92c9ce1e   \n",
       "96207  fffea47cd6d3cc0a88bd621562a9d061  c71b9252fd7b3b263aaa4cb09319a323   \n",
       "96208  ffff371b4d645b6ecea244b27531430a  fdc45e6c7555e6cb3cc0daca2557dbe1   \n",
       "96210  ffffd2657e2aad2907e67c3e9daecbeb  f79a35da168301ae56922475da21117b   \n",
       "\n",
       "      order_purchase_timestamp  order_item_id  review_score  Total_paiements  \\\n",
       "2                   2017-03-10            1.0           3.0            86.22   \n",
       "3                   2017-10-12            1.0           4.0            43.62   \n",
       "4                   2017-11-14            1.0           5.0           196.89   \n",
       "8                   2017-03-04            1.0           4.0           150.12   \n",
       "10                  2017-07-18            1.0           3.0            29.00   \n",
       "...                        ...            ...           ...              ...   \n",
       "96205               2017-12-27            1.0           5.0           167.32   \n",
       "96206               2017-06-08            1.0           5.0          2067.42   \n",
       "96207               2017-12-10            1.0           4.0            84.58   \n",
       "96208               2017-02-07            1.0           5.0           112.46   \n",
       "96210               2017-05-02            1.0           5.0            71.56   \n",
       "\n",
       "       recency  \n",
       "2          538  \n",
       "3          322  \n",
       "4          289  \n",
       "8          544  \n",
       "10         408  \n",
       "...        ...  \n",
       "96205      246  \n",
       "96206      448  \n",
       "96207      263  \n",
       "96208      569  \n",
       "96210      485  \n",
       "\n",
       "[49747 rows x 7 columns]"
      ]
     },
     "execution_count": 5,
     "metadata": {},
     "output_type": "execute_result"
    }
   ],
   "source": [
    "# Visulation du fichier de Janvier\n",
    "\n",
    "data1"
   ]
  },
  {
   "cell_type": "markdown",
   "id": "4c360cc4",
   "metadata": {},
   "source": [
    "# "
   ]
  },
  {
   "cell_type": "code",
   "execution_count": 6,
   "id": "edb364a9",
   "metadata": {},
   "outputs": [],
   "source": [
    "# Agrégation des différents jeux de données.\n",
    "\n",
    "\n",
    "# Fichier de référence\n",
    "data_ref = data_ref.groupby(['customer_unique_id'], as_index = False).agg({'order_item_id': 'sum',\n",
    "                                   'review_score': 'mean',\n",
    "                                   'Total_paiements': 'sum',\n",
    "                                   'recency': 'min'})\n",
    "\n",
    "# Fichier de Janvier\n",
    "data_test1 = data1.groupby(['customer_unique_id'], as_index = False).agg({'order_item_id': 'sum',\n",
    "                                   'review_score': 'mean',\n",
    "                                   'Total_paiements': 'sum',\n",
    "                                   'recency': 'min'})\n",
    "\n",
    "\n",
    "# Fichier de Février\n",
    "data_test2 = data2.groupby(['customer_unique_id'], as_index = False).agg({'order_item_id': 'sum',\n",
    "                                   'review_score': 'mean',\n",
    "                                   'Total_paiements': 'sum',\n",
    "                                   'recency': 'min'})\n",
    "\n",
    "# Fichier de Mars\n",
    "data_test3 = data3.groupby(['customer_unique_id'], as_index = False).agg({'order_item_id': 'sum',\n",
    "                                   'review_score': 'mean',\n",
    "                                   'Total_paiements': 'sum',\n",
    "                                   'recency': 'min'})\n",
    "\n",
    "# Fichier d'Avril\n",
    "data_test4 = data4.groupby(['customer_unique_id'], as_index = False).agg({'order_item_id': 'sum',\n",
    "                                   'review_score': 'mean',\n",
    "                                   'Total_paiements': 'sum',\n",
    "                                   'recency': 'min'})\n",
    "\n",
    "# Fichier de Mai\n",
    "data_test5 = data5.groupby(['customer_unique_id'], as_index = False).agg({'order_item_id': 'sum',\n",
    "                                   'review_score': 'mean',\n",
    "                                   'Total_paiements': 'sum',\n",
    "                                   'recency': 'min'})\n",
    "\n",
    "# Fichier de Juin\n",
    "data_test6 = data6.groupby(['customer_unique_id'], as_index = False).agg({'order_item_id': 'sum',\n",
    "                                   'review_score': 'mean',\n",
    "                                   'Total_paiements': 'sum',\n",
    "                                   'recency': 'min'})\n",
    "\n",
    "\n",
    "# Fichier de Juillet\n",
    "data_test7 = data7.groupby(['customer_unique_id'], as_index = False).agg({'order_item_id': 'sum',\n",
    "                                   'review_score': 'mean',\n",
    "                                   'Total_paiements': 'sum',\n",
    "                                   'recency': 'min'})\n"
   ]
  },
  {
   "cell_type": "code",
   "execution_count": 7,
   "id": "8c51bbc0",
   "metadata": {},
   "outputs": [],
   "source": [
    "# Suppression des colonnes non utiles à l'entrainement des modèles\n",
    "\n",
    "data_ref.drop(columns = ['customer_unique_id'], inplace = True)\n",
    "data_test1.drop(columns = ['customer_unique_id'], inplace = True)\n",
    "data_test2.drop(columns = ['customer_unique_id'], inplace = True)\n",
    "data_test3.drop(columns = ['customer_unique_id'], inplace = True)\n",
    "data_test4.drop(columns = ['customer_unique_id'], inplace = True)\n",
    "data_test5.drop(columns = ['customer_unique_id'], inplace = True)\n",
    "data_test6.drop(columns = ['customer_unique_id'], inplace = True)\n",
    "data_test7.drop(columns = ['customer_unique_id'], inplace = True)"
   ]
  },
  {
   "cell_type": "markdown",
   "id": "5b286816",
   "metadata": {},
   "source": [
    "# "
   ]
  },
  {
   "cell_type": "markdown",
   "id": "7d659ff9",
   "metadata": {},
   "source": [
    "### 2.Entrainement des modèles"
   ]
  },
  {
   "cell_type": "markdown",
   "id": "aca2932e",
   "metadata": {},
   "source": [
    "#### 2.1. Entrainement du modèle de référence"
   ]
  },
  {
   "cell_type": "code",
   "execution_count": 8,
   "id": "382888a6",
   "metadata": {},
   "outputs": [
    {
     "data": {
      "image/png": "[encoded data removed]",
      "text/plain": [
       "<Figure size 432x432 with 1 Axes>"
      ]
     },
     "metadata": {
      "needs_background": "light"
     },
     "output_type": "display_data"
    }
   ],
   "source": [
    "# Standardisation de nos données\n",
    "\n",
    "sc = StandardScaler() \n",
    "\n",
    "\n",
    "data_ref = sc.fit_transform(data_ref)\n",
    "\n",
    "# Entrainement du modèle de référence\n",
    "\n",
    "model_ref = KMeans(n_clusters = 6)\n",
    "model_ref.fit(data_ref)\n",
    "\n",
    "label1 = model_ref.predict(data_ref)\n",
    "\n",
    "# Vérification de notre métrique\n",
    "\n",
    "label_ref = model_ref.labels_\n",
    "\n",
    "adjusted_rand_score(label_ref, label1)\n",
    "# Compute confusion matrix\n",
    "\n",
    "cm = confusion_matrix(label_ref, label1)\n",
    "\n",
    "# Plot confusion matrix\n",
    "plt.figure(figsize = (6,6))\n",
    "plt.imshow(cm,interpolation='none',cmap='Blues')\n",
    "for (i, j), z in np.ndenumerate(cm):\n",
    "    plt.text(j, i, z, ha='center', va='center', fontsize = 8)\n",
    "plt.xlabel(\"Label de référence\")\n",
    "plt.ylabel(\"Label ref_means\")\n",
    "plt.title('Matrice de confusion pour le modèle de référence')\n",
    "plt.show()"
   ]
  },
  {
   "cell_type": "markdown",
   "id": "ddcd0a13",
   "metadata": {},
   "source": [
    "#### 2.2 Entrainement des modèles mensuels"
   ]
  },
  {
   "cell_type": "code",
   "execution_count": 9,
   "id": "d49e7edd",
   "metadata": {},
   "outputs": [
    {
     "name": "stdout",
     "output_type": "stream",
     "text": [
      "Le score pour janvier est de : 0.9905712768796824\n"
     ]
    },
    {
     "data": {
      "image/png": "[encoded data removed]",
      "text/plain": [
       "<Figure size 432x432 with 1 Axes>"
      ]
     },
     "metadata": {
      "needs_background": "light"
     },
     "output_type": "display_data"
    }
   ],
   "source": [
    "# Entrainement du modèle de Janvier\n",
    "\n",
    "\n",
    "data_test1 = sc.fit_transform(data_test1)\n",
    "label_janvier_ref = model_ref.predict(data_test1)\n",
    "\n",
    "model_janvier = KMeans(n_clusters = 6)\n",
    "model_janvier.fit(data_test1)\n",
    "\n",
    "M0 = model_ref.predict(data_test1)\n",
    "M1 = model_janvier.predict(data_test1)\n",
    "ARS1 = adjusted_rand_score(M0, M1)\n",
    "print('Le score pour janvier est de :', ARS1)\n",
    "\n",
    "# Matrice de confusion\n",
    "\n",
    "# Compute confusion matrix\n",
    "\n",
    "cm = confusion_matrix(M0, M1)\n",
    "\n",
    "# Plot confusion matrix\n",
    "plt.figure(figsize = (6,6))\n",
    "plt.imshow(cm,interpolation='none',cmap='Blues')\n",
    "for (i, j), z in np.ndenumerate(cm):\n",
    "    plt.text(j, i, z, ha='center', va='center', fontsize = 8)\n",
    "plt.xlabel(\"Label de référence\")\n",
    "plt.ylabel(\"Label ref_means\")\n",
    "plt.title('Matrice de confusion pour le modèle de Janvier')\n",
    "plt.show()"
   ]
  },
  {
   "cell_type": "markdown",
   "id": "4bc2beff",
   "metadata": {},
   "source": [
    "### Février"
   ]
  },
  {
   "cell_type": "code",
   "execution_count": 10,
   "id": "ea27a3f0",
   "metadata": {},
   "outputs": [
    {
     "name": "stdout",
     "output_type": "stream",
     "text": [
      "Le score pour février est de : 0.9773221321886295\n"
     ]
    },
    {
     "data": {
      "image/png": "[encoded data removed]",
      "text/plain": [
       "<Figure size 432x432 with 1 Axes>"
      ]
     },
     "metadata": {
      "needs_background": "light"
     },
     "output_type": "display_data"
    }
   ],
   "source": [
    "# Entrainement d'un nouveau modèle avec nos différents mois\n",
    "\n",
    "data_test2 = sc.fit_transform(data_test2)\n",
    "label_fevrier_ref = model_ref.predict(data_test2)\n",
    "\n",
    "model_fevrier = KMeans(n_clusters = 6)\n",
    "model_fevrier.fit(data_test2)\n",
    "\n",
    "M0 = model_ref.predict(data_test2)\n",
    "M2 = model_fevrier.predict(data_test2)\n",
    "ARS2 = adjusted_rand_score(M0, M2)\n",
    "print('Le score pour février est de :', ARS2)\n",
    "\n",
    "# Matrice de confusion\n",
    "\n",
    "# Compute confusion matrix\n",
    "\n",
    "cm = confusion_matrix(M0, M2)\n",
    "\n",
    "# Plot confusion matrix\n",
    "plt.figure(figsize = (6,6))\n",
    "plt.imshow(cm,interpolation='none',cmap='Blues')\n",
    "for (i, j), z in np.ndenumerate(cm):\n",
    "    plt.text(j, i, z, ha='center', va='center', fontsize = 8)\n",
    "plt.xlabel(\"Label de référence\")\n",
    "plt.ylabel(\"Label ref_means\")\n",
    "plt.title('Matrice de confusion pour le modèle de Février')\n",
    "plt.show()"
   ]
  },
  {
   "cell_type": "code",
   "execution_count": 11,
   "id": "a6ef6c21",
   "metadata": {},
   "outputs": [
    {
     "name": "stdout",
     "output_type": "stream",
     "text": [
      "Le score pour mars est de : 0.9327739077034085\n"
     ]
    },
    {
     "data": {
      "image/png": "[encoded data removed]",
      "text/plain": [
       "<Figure size 432x432 with 1 Axes>"
      ]
     },
     "metadata": {
      "needs_background": "light"
     },
     "output_type": "display_data"
    }
   ],
   "source": [
    "# Mois de Mars\n",
    "\n",
    "\n",
    "label_mars_ref = model_ref.predict(data_test3)\n",
    "data_test3 = sc.fit_transform(data_test3)\n",
    "\n",
    "model_mars = KMeans(n_clusters = 6)\n",
    "model_mars.fit(data_test3)\n",
    "\n",
    "M0 = model_ref.predict(data_test3)\n",
    "M3 = model_mars.predict(data_test3)\n",
    "ARS3 = adjusted_rand_score(M0, M3)\n",
    "print('Le score pour mars est de :', ARS3)\n",
    "\n",
    "# Matrice de confusion\n",
    "\n",
    "# Compute confusion matrix\n",
    "\n",
    "cm = confusion_matrix(M0, M3)\n",
    "\n",
    "# Plot confusion matrix\n",
    "plt.figure(figsize = (6,6))\n",
    "plt.imshow(cm,interpolation='none',cmap='Blues')\n",
    "for (i, j), z in np.ndenumerate(cm):\n",
    "    plt.text(j, i, z, ha='center', va='center', fontsize = 8)\n",
    "plt.xlabel(\"Label de référence\")\n",
    "plt.ylabel(\"Label ref_means\")\n",
    "plt.title('Matrice de confusion pour le modèle de Mars')\n",
    "plt.show()"
   ]
  },
  {
   "cell_type": "code",
   "execution_count": 12,
   "id": "2f7174fb",
   "metadata": {},
   "outputs": [
    {
     "name": "stdout",
     "output_type": "stream",
     "text": [
      "Le score pour avril est de : 0.9420076804615399\n"
     ]
    },
    {
     "data": {
      "image/png": "[encoded data removed]",
      "text/plain": [
       "<Figure size 432x432 with 1 Axes>"
      ]
     },
     "metadata": {
      "needs_background": "light"
     },
     "output_type": "display_data"
    }
   ],
   "source": [
    "# Mois d'Avril\n",
    "\n",
    "data_test4 = sc.fit_transform(data_test4)\n",
    "label_avril_ref = model_ref.predict(data_test4)\n",
    "\n",
    "\n",
    "model_avril = KMeans(n_clusters = 6)\n",
    "model_avril.fit(data_test4)\n",
    "\n",
    "M0 = model_ref.predict(data_test4)\n",
    "M4 = model_avril.predict(data_test4)\n",
    "ARS4 = adjusted_rand_score(M0, M4)\n",
    "print('Le score pour avril est de :', ARS4)\n",
    "\n",
    "# Matrice de confusion\n",
    "\n",
    "# Compute confusion matrix\n",
    "\n",
    "cm = confusion_matrix(M0, M4)\n",
    "\n",
    "# Plot confusion matrix\n",
    "plt.figure(figsize = (6,6))\n",
    "plt.imshow(cm,interpolation='none',cmap='Blues')\n",
    "for (i, j), z in np.ndenumerate(cm):\n",
    "    plt.text(j, i, z, ha='center', va='center', fontsize = 8)\n",
    "plt.xlabel(\"Label de référence\")\n",
    "plt.ylabel(\"Label ref_means\")\n",
    "plt.title(\"Matrice de confusion pour le modèle d'Avril\")\n",
    "plt.show()"
   ]
  },
  {
   "cell_type": "code",
   "execution_count": 13,
   "id": "afb8661f",
   "metadata": {},
   "outputs": [
    {
     "name": "stdout",
     "output_type": "stream",
     "text": [
      "Le score pour mai est de : 0.8729734303012318\n"
     ]
    },
    {
     "data": {
      "image/png": "[encoded data removed]",
      "text/plain": [
       "<Figure size 432x432 with 1 Axes>"
      ]
     },
     "metadata": {
      "needs_background": "light"
     },
     "output_type": "display_data"
    }
   ],
   "source": [
    "# Mois de Mai\n",
    "\n",
    "data_test5 = sc.fit_transform(data_test5)\n",
    "label_mai_ref = model_ref.predict(data_test5)\n",
    "\n",
    "\n",
    "model_mai = KMeans(n_clusters = 6)\n",
    "model_mai.fit(data_test5)\n",
    "\n",
    "M0 = model_ref.predict(data_test5)\n",
    "M5 = model_mai.predict(data_test5)\n",
    "ARS5 = adjusted_rand_score(M0, M5)\n",
    "print('Le score pour mai est de :', ARS5)\n",
    "\n",
    "# Matrice de confusion\n",
    "\n",
    "# Compute confusion matrix\n",
    "\n",
    "cm = confusion_matrix(M0, M5)\n",
    "\n",
    "# Plot confusion matrix\n",
    "plt.figure(figsize = (6,6))\n",
    "plt.imshow(cm,interpolation='none',cmap='Blues')\n",
    "for (i, j), z in np.ndenumerate(cm):\n",
    "    plt.text(j, i, z, ha='center', va='center', fontsize = 8)\n",
    "plt.xlabel(\"Label de référence\")\n",
    "plt.ylabel(\"Label ref_means\")\n",
    "plt.title('Matrice de confusion pour le modèle de Mai')\n",
    "plt.show()"
   ]
  },
  {
   "cell_type": "code",
   "execution_count": 14,
   "id": "0599e208",
   "metadata": {},
   "outputs": [
    {
     "name": "stdout",
     "output_type": "stream",
     "text": [
      "Le score pour juin est de : 0.8972624480020003\n"
     ]
    },
    {
     "data": {
      "image/png": "[encoded data removed]",
      "text/plain": [
       "<Figure size 432x432 with 1 Axes>"
      ]
     },
     "metadata": {
      "needs_background": "light"
     },
     "output_type": "display_data"
    }
   ],
   "source": [
    "# Mois de Juin\n",
    "\n",
    "data_test6 = sc.fit_transform(data_test6)\n",
    "label_juin_ref = model_ref.predict(data_test6)\n",
    "\n",
    "\n",
    "\n",
    "model_juin = KMeans(n_clusters = 6)\n",
    "model_juin.fit(data_test6)\n",
    "\n",
    "M0 = model_ref.predict(data_test6)\n",
    "M6 = model_juin.predict(data_test6)\n",
    "ARS6 = adjusted_rand_score(M0, M6)\n",
    "print('Le score pour juin est de :', ARS6)\n",
    "\n",
    "# Matrice de confusion\n",
    "\n",
    "# Compute confusion matrix\n",
    "\n",
    "cm = confusion_matrix(M0, M6)\n",
    "\n",
    "# Plot confusion matrix\n",
    "plt.figure(figsize = (6,6))\n",
    "plt.imshow(cm,interpolation='none',cmap='Blues')\n",
    "for (i, j), z in np.ndenumerate(cm):\n",
    "    plt.text(j, i, z, ha='center', va='center', fontsize = 8)\n",
    "plt.xlabel(\"Label de référence\")\n",
    "plt.ylabel(\"Label ref_means\")\n",
    "plt.title('Matrice de confusion pour le modèle de Juin')\n",
    "plt.show()"
   ]
  },
  {
   "cell_type": "code",
   "execution_count": 15,
   "id": "1107ee5c",
   "metadata": {},
   "outputs": [
    {
     "name": "stdout",
     "output_type": "stream",
     "text": [
      "Le score pour juillet est de : 0.828857717097552\n"
     ]
    },
    {
     "data": {
      "image/png": "[encoded data removed]",
      "text/plain": [
       "<Figure size 432x432 with 1 Axes>"
      ]
     },
     "metadata": {
      "needs_background": "light"
     },
     "output_type": "display_data"
    }
   ],
   "source": [
    "# Mois de Juillet\n",
    "\n",
    "data_test7 = sc.fit_transform(data_test7)\n",
    "label_juillet_ref = model_ref.predict(data_test7)\n",
    "\n",
    "\n",
    "model_juillet = KMeans(n_clusters = 6)\n",
    "model_juillet.fit(data_test7)\n",
    "\n",
    "M0 = model_ref.predict(data_test7)\n",
    "M7 = model_juillet.predict(data_test7)\n",
    "ARS7 = adjusted_rand_score(M0, M7)\n",
    "print('Le score pour juillet est de :', ARS7)\n",
    "\n",
    "# Matrice de confusion\n",
    "\n",
    "# Compute confusion matrix\n",
    "\n",
    "cm = confusion_matrix(M0, M7)\n",
    "\n",
    "# Plot confusion matrix\n",
    "plt.figure(figsize = (6,6))\n",
    "plt.imshow(cm,interpolation='none',cmap='Blues')\n",
    "for (i, j), z in np.ndenumerate(cm):\n",
    "    plt.text(j, i, z, ha='center', va='center', fontsize = 8)\n",
    "plt.xlabel(\"Label de référence\")\n",
    "plt.ylabel(\"Label ref_means\")\n",
    "plt.title('Matrice de confusion pour le modèle de Juillet')\n",
    "plt.show()"
   ]
  },
  {
   "cell_type": "markdown",
   "id": "0ee9f356",
   "metadata": {},
   "source": [
    "# "
   ]
  },
  {
   "cell_type": "markdown",
   "id": "ea58df68",
   "metadata": {},
   "source": [
    "### 3. Résultats de la maintenance"
   ]
  },
  {
   "cell_type": "code",
   "execution_count": 16,
   "id": "3e406229",
   "metadata": {},
   "outputs": [
    {
     "data": {
      "text/html": [
       "<div>\n",
       "<style scoped>\n",
       "    .dataframe tbody tr th:only-of-type {\n",
       "        vertical-align: middle;\n",
       "    }\n",
       "\n",
       "    .dataframe tbody tr th {\n",
       "        vertical-align: top;\n",
       "    }\n",
       "\n",
       "    .dataframe thead th {\n",
       "        text-align: right;\n",
       "    }\n",
       "</style>\n",
       "<table border=\"1\" class=\"dataframe\">\n",
       "  <thead>\n",
       "    <tr style=\"text-align: right;\">\n",
       "      <th></th>\n",
       "      <th>Mois</th>\n",
       "      <th>Score Maintenance</th>\n",
       "    </tr>\n",
       "  </thead>\n",
       "  <tbody>\n",
       "    <tr>\n",
       "      <th>0</th>\n",
       "      <td>Janvier</td>\n",
       "      <td>0.990571</td>\n",
       "    </tr>\n",
       "    <tr>\n",
       "      <th>1</th>\n",
       "      <td>Février</td>\n",
       "      <td>0.977322</td>\n",
       "    </tr>\n",
       "    <tr>\n",
       "      <th>2</th>\n",
       "      <td>Mars</td>\n",
       "      <td>0.932774</td>\n",
       "    </tr>\n",
       "    <tr>\n",
       "      <th>3</th>\n",
       "      <td>Avril</td>\n",
       "      <td>0.942008</td>\n",
       "    </tr>\n",
       "    <tr>\n",
       "      <th>4</th>\n",
       "      <td>Mai</td>\n",
       "      <td>0.872973</td>\n",
       "    </tr>\n",
       "    <tr>\n",
       "      <th>5</th>\n",
       "      <td>Juin</td>\n",
       "      <td>0.897262</td>\n",
       "    </tr>\n",
       "    <tr>\n",
       "      <th>6</th>\n",
       "      <td>Juillet</td>\n",
       "      <td>0.828858</td>\n",
       "    </tr>\n",
       "  </tbody>\n",
       "</table>\n",
       "</div>"
      ],
      "text/plain": [
       "      Mois  Score Maintenance\n",
       "0  Janvier           0.990571\n",
       "1  Février           0.977322\n",
       "2     Mars           0.932774\n",
       "3    Avril           0.942008\n",
       "4      Mai           0.872973\n",
       "5     Juin           0.897262\n",
       "6  Juillet           0.828858"
      ]
     },
     "execution_count": 16,
     "metadata": {},
     "output_type": "execute_result"
    }
   ],
   "source": [
    "# Création du fichier des résultats\n",
    "\n",
    "Score = [ARS1, ARS2, ARS3, ARS4, ARS5, ARS6, ARS7]\n",
    "Mois = ['Janvier', 'Février', 'Mars', 'Avril', 'Mai', 'Juin', 'Juillet']\n",
    "\n",
    "\n",
    "data_score = pd.DataFrame ({'Mois': Mois, 'Score Maintenance': Score})\n",
    "data_score"
   ]
  },
  {
   "cell_type": "code",
   "execution_count": 17,
   "id": "e17a89a6",
   "metadata": {},
   "outputs": [
    {
     "data": {
      "text/plain": [
       "Text(0, 0.5, 'Score')"
      ]
     },
     "execution_count": 17,
     "metadata": {},
     "output_type": "execute_result"
    },
    {
     "data": {
      "image/png": "[encoded data removed]",
      "text/plain": [
       "<Figure size 720x576 with 1 Axes>"
      ]
     },
     "metadata": {
      "needs_background": "light"
     },
     "output_type": "display_data"
    }
   ],
   "source": [
    "# Visualisation de nos résultats\n",
    "\n",
    "title = {\"family\": \"arial\",\n",
    "              \"color\":  \"black\",\n",
    "              \"weight\": \"bold\",\n",
    "              \"size\": 18}\n",
    "\n",
    "plt.figure(figsize = (10,8))\n",
    "data_score['Score Maintenance'].plot(kind = 'bar')\n",
    "plt.title(\"Stabilité de la maintenance du KMeans\",\n",
    "         fontdict = title)\n",
    "plt.xticks(np.arange(0,7), ['Jan','Feb','Mar','Apr','May','Jun', 'Jui'])\n",
    "plt.ylabel('Score')\n"
   ]
  },
  {
   "cell_type": "markdown",
   "id": "6a3ce08e",
   "metadata": {},
   "source": [
    "Notre graphique indique que la maintenance serait optimisée tous les 7 mois. Nous allons garder cette idée de pratiquer la maintenance de notre segmentation chaque semestre."
   ]
  },
  {
   "cell_type": "markdown",
   "id": "5b395279",
   "metadata": {},
   "source": [
    "# "
   ]
  },
  {
   "cell_type": "markdown",
   "id": "ad017b94",
   "metadata": {},
   "source": [
    "# III. Conclusion du projet 5"
   ]
  },
  {
   "cell_type": "markdown",
   "id": "21ee6066",
   "metadata": {},
   "source": [
    "En conclusion, nous pouvons dire que nous avons pu procéder au traitement de la problématique de segmentation de la clientèle.\n",
    "\n",
    "Afin de procéder à cette segmentation, nous avons procéder, en amont, à l'analyse de l'ensemble des fichiers fournis par la société.\n",
    "Cette méthode nous a permis de procéder à un filtre de notre clientèle afin de ne conserver que les clients sans valeurs atypiques, qui seront pour leur part traiter dans un listing très spécifique et très facilement identifiable dans le cadre de notre problématique.\n",
    "\n",
    "Ce traitement des données a notamment permis de ressortir une très forte présence de clients ayant uniquement effectué un seul achat (sur les données fournies).\n",
    "\n",
    "Afin de procéder à notre segmentation, nous avons utilisé plusieurs méthodologies, à savoir :\n",
    "\n",
    "- La Méthode RFM (Recence Frequence Monetary) qui donne une base fondamentale pour notre analyse. Cette méthode nous notamment permis d'obtenir une première analyse de notre client de manière marketing. Nous avons par la suite procéder à la segmentation de nos données qui nous a conduit a séparé notre clientèle en 7 groupes séparés.\n",
    "\n",
    "- Nous avons ensuite pratiqué la méthode de l'ACP dans le but de mieux étudier le rôle de nos variables et d'en ressortir des données nous permettant d'avancer sur notre projet.\n",
    "\n",
    "- RFM + moyenne commentaire : l'ajout de cette variable a permis de mieux appréhender nos données et ainsi de confirmer une segmentation précise. Nous ressortons de notre analyse avec 6 clusters définis et nous permettant de répondre à la problématique de notre projet.\n",
    "\n",
    "Pour effectuer la segmentation, nous avons utilisé les méthodes du K-Means, du DBSCAN et du Clustering Hiérarchique. Nous pouvons affirmer que la méthode du K-Means a présenté les résultats les plus intéressants et cette méthodologie va nous permettre de proposer, auprès du service marketing, notre segmentation pour le développement et la pérénisation de l'entreprise.\n",
    "\n",
    "\n",
    "Dans le cadre de la maintenance, nous avons pu procéder à une analyse sur la durée recommandée nous permettant de mettre à jour notre modélisation.\n",
    "Après analyse sur une période glissante d'une année, nous pouvons considérer que le mois de juillet (c'est à dire tous les 7 mois) est la période optimale pour procéder à une mise à jour de notre modèle.\n",
    "\n",
    "\n",
    "Enfin, nous pouvons nous interroger sur le listing fourni. En effet, malgré une résolution de la problématique initiale. Il est important de s'interroger sur l'intégralité du fichier (par exemple sur une durée de 5 ou 10 ans). Cette possibilité pourrait conduire à une analyse plus approfondie notamment sur le nombre d'achats de la part des consommateurs. Il est probable que certains clients aient effectués plusieurs achats mais les documents fournis ne contiennent que 2 années d'étude des données."
   ]
  },
  {
   "cell_type": "code",
   "execution_count": null,
   "id": "82fef236",
   "metadata": {},
   "outputs": [],
   "source": []
  }
 ],
 "metadata": {
  "kernelspec": {
   "display_name": "Python 3 (ipykernel)",
   "language": "python",
   "name": "python3"
  },
  "language_info": {
   "codemirror_mode": {
    "name": "ipython",
    "version": 3
   },
   "file_extension": ".py",
   "mimetype": "text/x-python",
   "name": "python",
   "nbconvert_exporter": "python",
   "pygments_lexer": "ipython3",
   "version": "3.9.7"
  }
 },
 "nbformat": 4,
 "nbformat_minor": 5
}
